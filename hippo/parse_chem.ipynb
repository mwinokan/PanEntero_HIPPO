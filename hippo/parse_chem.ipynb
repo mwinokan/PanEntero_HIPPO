{
 "cells": [
  {
   "cell_type": "code",
   "execution_count": null,
   "id": "1d308b13-26dc-4f29-bece-dfefd2f0c049",
   "metadata": {
    "tags": []
   },
   "outputs": [],
   "source": [
    "%load_ext autoreload"
   ]
  },
  {
   "cell_type": "code",
   "execution_count": null,
   "id": "e0ef52a0-b101-466c-a109-66cc03a4969c",
   "metadata": {
    "tags": []
   },
   "outputs": [],
   "source": [
    "%autoreload 2\n",
    "import hippo3 as hippo\n",
    "from pathlib import Path\n",
    "from tqdm import tqdm\n",
    "import pandas as pd\n",
    "import numpy as np\n",
    "import molparse as mp"
   ]
  },
  {
   "cell_type": "code",
   "execution_count": null,
   "id": "f3af1560-54e6-40ab-88dc-d70b619e8c13",
   "metadata": {
    "tags": []
   },
   "outputs": [],
   "source": [
    "import logging\n",
    "logger = logging.getLogger()\n",
    "logger.setLevel(level=logging.INFO)"
   ]
  },
  {
   "cell_type": "code",
   "execution_count": null,
   "id": "1204044a-55e6-44ad-954a-0d4a6942e2aa",
   "metadata": {
    "tags": []
   },
   "outputs": [],
   "source": [
    "!rm -v chem_test.sqlite"
   ]
  },
  {
   "cell_type": "code",
   "execution_count": null,
   "id": "408e7b04-6e84-4037-ac0b-bdf4bc2df2a4",
   "metadata": {
    "tags": []
   },
   "outputs": [],
   "source": [
    "animal = hippo.HIPPO('chem_test','chem_test.sqlite')"
   ]
  },
  {
   "cell_type": "code",
   "execution_count": null,
   "id": "1478495d-5753-4602-80b7-797d13c592e2",
   "metadata": {
    "tags": []
   },
   "outputs": [],
   "source": [
    "base_df = pd.read_csv('../wt_designs_MASTER_COMPLETE_FINAL_29Feb.csv')"
   ]
  },
  {
   "cell_type": "code",
   "execution_count": null,
   "id": "2b03d941-cc45-4913-af0f-e49d9d991408",
   "metadata": {
    "tags": []
   },
   "outputs": [],
   "source": [
    "from hippo3.tools import inchikey_from_smiles\n",
    "\n",
    "for i,row in tqdm(base_df.iterrows()):\n",
    "    \n",
    "    # if i < 4:\n",
    "        # continue\n",
    "        \n",
    "    if i > 20:\n",
    "        break\n",
    "    \n",
    "    # logger.title(f'{i=}')\n",
    "    \n",
    "    # print(row)\n",
    "    \n",
    "    j_max = row['no-steps']\n",
    "    \n",
    "    for j in range(j_max):\n",
    "        \n",
    "        j += 1\n",
    "        \n",
    "        s1 = row[f'reactant-1-{j}']\n",
    "        s2 = row[f'reactant-2-{j}']\n",
    "        s3 = row[f'reaction-product-smiles-{j}']\n",
    "\n",
    "        # print(s1,s2,s3)\n",
    "        \n",
    "        # logger.var('j',j)\n",
    "        # logger.var('s1',s1)\n",
    "        # logger.var('s2',s2)\n",
    "        # logger.var('s3',s3)\n",
    "        \n",
    "        # add the reactants\n",
    "        \n",
    "        c1 = animal.db.insert_compound(smiles=s1, warn_duplicate=False)\n",
    "        # if c1: logger.info(f'added C{c1}')\n",
    "        \n",
    "        if isinstance(s2,float) and np.isnan(s2):\n",
    "            c2 = None\n",
    "            s2 = None\n",
    "        else:\n",
    "            c2 = animal.db.insert_compound(smiles=s2, warn_duplicate=False)\n",
    "            # if c2: logger.info(f'added C{c2}')\n",
    "            \n",
    "        if j == j_max:\n",
    "            tags = ['base']\n",
    "        else:\n",
    "            tags = ['intermediate']\n",
    "            \n",
    "        c3 = animal.db.insert_compound(smiles=s3, tags=tags, warn_duplicate=False)\n",
    "        # if c3: logger.info(f'added C{c3}')\n",
    "                        \n",
    "        if c1 is None:\n",
    "            c1 = animal.compounds[inchikey_from_smiles(s1)]\n",
    "                \n",
    "        if c2 is None:\n",
    "            if s2 is not None:\n",
    "                c2 = animal.compounds[inchikey_from_smiles(s2)]\n",
    "        \n",
    "        if c3 is None:\n",
    "            c3 = animal.compounds[inchikey_from_smiles(s3)]\n",
    "        \n",
    "        r1 = animal.db.insert_reaction(type=row[f'reaction-name-{j}'], product=c3)\n",
    "        # if r1: logger.info(f'Added R{r1}')\n",
    "        \n",
    "        animal.db.insert_reactant(compound=c1, reaction=r1, amount=1)\n",
    "        # if r1: logger.info(f'Added R{r1} reactant: C{c1}')\n",
    "\n",
    "        if c2:\n",
    "            animal.db.insert_reactant(compound=c2, reaction=r1, amount=1)\n",
    "            # if r1: logger.info(f'Added R{r1} reactant: C{c2}')\n",
    "        \n",
    "    # c3 = animal.db.insert_compound(smiles=s3, tags=['base'])\n",
    "    # if c3: logger.info(f'Added product C{c3}')\n",
    "    \n",
    "    # logger.title(f'{animal.compounds[inchikey_from_smiles(s3)]} {c3}')\n",
    "\n",
    "    # break"
   ]
  },
  {
   "cell_type": "code",
   "execution_count": null,
   "id": "fe1cc94f-d83b-4d76-83fa-baa4b44c21b1",
   "metadata": {
    "tags": []
   },
   "outputs": [],
   "source": [
    "s = 'Cc1ccc(NC(=O)CO)cc1NC(=O)CC#N'\n",
    "m = mp.rdkit.mol_from_smiles(s)\n",
    "# animal.db.insert_compound(smiles=s)\n",
    "m"
   ]
  },
  {
   "cell_type": "code",
   "execution_count": null,
   "id": "6f71f16d-826c-4fbd-a91d-bebfcaf24bde",
   "metadata": {
    "tags": []
   },
   "outputs": [],
   "source": [
    "animal.db.query_similarity(s, threshold=0.8, return_similarity=True)"
   ]
  },
  {
   "cell_type": "code",
   "execution_count": null,
   "id": "35ba5232-f33a-4d42-9e22-6ab416aadb85",
   "metadata": {
    "tags": []
   },
   "outputs": [],
   "source": [
    "animal.compounds.get_by_tag('base').ids"
   ]
  },
  {
   "cell_type": "code",
   "execution_count": null,
   "id": "18531dbd-6344-4787-825b-893ba31a1c19",
   "metadata": {
    "tags": []
   },
   "outputs": [],
   "source": [
    "recipe = animal.compounds[6,10,14].get_recipe(amount=[20,20,20,20])\n",
    "# recipe = animal.compounds[6].reactions[0].get_recipe(amount=20)"
   ]
  },
  {
   "cell_type": "code",
   "execution_count": null,
   "id": "4da07c6b-b448-42ab-b170-b0be3d433e47",
   "metadata": {
    "tags": []
   },
   "outputs": [],
   "source": [
    "def color_mapper():\n",
    "    mapper = {}\n",
    "    \n",
    "    for comp in animal.compounds.get_by_tag('base'):\n",
    "        mapper[str(comp)] = (0.0,1.0,0.0)\n",
    "        \n",
    "    for comp in animal.compounds.get_by_tag('intermediate'):\n",
    "        mapper[str(comp)] = (0.0,0.5,1.0)\n",
    "        \n",
    "    return mapper"
   ]
  },
  {
   "cell_type": "code",
   "execution_count": null,
   "id": "76585afe-92ec-4a19-8ea3-a9c93019b214",
   "metadata": {
    "tags": []
   },
   "outputs": [],
   "source": [
    "recipe.summary()"
   ]
  },
  {
   "cell_type": "code",
   "execution_count": null,
   "id": "40900cb9-3b1c-4c20-a474-c365bbf3fcea",
   "metadata": {
    "tags": []
   },
   "outputs": [],
   "source": [
    "recipe.draw(color_mapper=color_mapper(), node_size=400)\n",
    "# recipe.draw()"
   ]
  },
  {
   "cell_type": "code",
   "execution_count": null,
   "id": "67bd83de-b2be-4c9b-b0d0-6b6797658542",
   "metadata": {
    "tags": []
   },
   "outputs": [],
   "source": [
    "recipe.sankey()"
   ]
  },
  {
   "cell_type": "code",
   "execution_count": null,
   "id": "40a67c40-e2ce-4d04-82f4-1f57333494ec",
   "metadata": {
    "tags": []
   },
   "outputs": [],
   "source": [
    "animal.compounds[40].mol"
   ]
  },
  {
   "cell_type": "code",
   "execution_count": null,
   "id": "c3cf010d-fe5f-4e74-8e19-bce260dc340b",
   "metadata": {
    "tags": []
   },
   "outputs": [],
   "source": [
    "mp.rdkit.draw_grid([s, animal.compounds[40].smiles], align_substructure=True)"
   ]
  },
  {
   "cell_type": "code",
   "execution_count": null,
   "id": "4a3f072e-a735-4d0d-ad64-9f811659cac6",
   "metadata": {
    "tags": []
   },
   "outputs": [],
   "source": [
    "'CC(C)(C)OC(=O)Nc1cc(N)c(C)cc1'"
   ]
  },
  {
   "cell_type": "code",
   "execution_count": null,
   "id": "06c38710-f8fc-4681-a9f3-c6229c51cd36",
   "metadata": {
    "tags": []
   },
   "outputs": [],
   "source": [
    "# animal.db.delete_where(table='compound', key='id', value=11)"
   ]
  },
  {
   "cell_type": "code",
   "execution_count": null,
   "id": "68b81ad0-2e1e-40c2-a69f-fdfbbcf65f94",
   "metadata": {},
   "outputs": [],
   "source": []
  },
  {
   "cell_type": "code",
   "execution_count": null,
   "id": "579e8afa-6aef-4712-8159-b5d2ff61e113",
   "metadata": {
    "tags": []
   },
   "outputs": [],
   "source": [
    "animal.compounds[11].mol"
   ]
  },
  {
   "cell_type": "code",
   "execution_count": null,
   "id": "244f27c6-9720-4be8-a573-72b6b36140c1",
   "metadata": {
    "tags": []
   },
   "outputs": [],
   "source": [
    "animal.compounds.get_by_tag('base')"
   ]
  },
  {
   "cell_type": "code",
   "execution_count": null,
   "id": "78a3d57e-b453-43fc-b63e-409c32626914",
   "metadata": {
    "tags": []
   },
   "outputs": [],
   "source": [
    "animal.reactions[10].draw()"
   ]
  },
  {
   "cell_type": "code",
   "execution_count": null,
   "id": "b97af3b8-d88c-444f-811d-9b2a11a6510e",
   "metadata": {
    "tags": []
   },
   "outputs": [],
   "source": [
    "animal.reactions[2].draw()"
   ]
  },
  {
   "cell_type": "code",
   "execution_count": null,
   "id": "ad0d3016-5613-4a0e-aeb0-04d9abce6c86",
   "metadata": {
    "tags": []
   },
   "outputs": [],
   "source": [
    "animal.reactions[3].draw()"
   ]
  },
  {
   "cell_type": "code",
   "execution_count": null,
   "id": "b9c5740e-b936-42e5-a1ae-e04eb2592d14",
   "metadata": {
    "tags": []
   },
   "outputs": [],
   "source": [
    "recipe = animal.compounds[-1].reactions[0].get_recipe()"
   ]
  },
  {
   "cell_type": "code",
   "execution_count": null,
   "id": "ffa26a18-95d5-41fc-b74c-d3106de5f5fe",
   "metadata": {
    "tags": []
   },
   "outputs": [],
   "source": [
    "for reaction in recipe.reactions:\n",
    "    print(reaction)"
   ]
  },
  {
   "cell_type": "code",
   "execution_count": null,
   "id": "65eb83b0-1138-4595-ab8f-0c0572dfc0fe",
   "metadata": {
    "tags": []
   },
   "outputs": [],
   "source": [
    "recipe.draw()"
   ]
  },
  {
   "cell_type": "code",
   "execution_count": null,
   "id": "15653d70-92ca-4466-b801-95a4ec4d1a0e",
   "metadata": {
    "tags": []
   },
   "outputs": [],
   "source": [
    "animal.db.print_table('tag')"
   ]
  },
  {
   "cell_type": "code",
   "execution_count": null,
   "id": "9e51a31d-f9e0-42bd-af84-d6058d5ffb81",
   "metadata": {},
   "outputs": [],
   "source": []
  }
 ],
 "metadata": {
  "kernelspec": {
   "display_name": "Python 3 (ipykernel)",
   "language": "python",
   "name": "python3"
  },
  "language_info": {
   "codemirror_mode": {
    "name": "ipython",
    "version": 3
   },
   "file_extension": ".py",
   "mimetype": "text/x-python",
   "name": "python",
   "nbconvert_exporter": "python",
   "pygments_lexer": "ipython3",
   "version": "3.10.12"
  }
 },
 "nbformat": 4,
 "nbformat_minor": 5
}
