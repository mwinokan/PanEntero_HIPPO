{
 "cells": [
  {
   "cell_type": "markdown",
   "id": "b37ed5cd-a5b0-450b-969a-78174a9db53e",
   "metadata": {},
   "source": [
    "# PanEntero_HIPPO: Hits (1/?)"
   ]
  },
  {
   "cell_type": "markdown",
   "id": "f8aff545-1c73-47e6-9c33-b8cc921312ec",
   "metadata": {},
   "source": [
    "## Imports"
   ]
  },
  {
   "cell_type": "code",
   "execution_count": null,
   "id": "054cd1da-7821-441a-85b0-9f3af9cb279b",
   "metadata": {
    "tags": []
   },
   "outputs": [],
   "source": [
    "%load_ext autoreload"
   ]
  },
  {
   "cell_type": "code",
   "execution_count": null,
   "id": "01e20b76-2f92-46ab-8018-8dcacf33cb48",
   "metadata": {
    "tags": []
   },
   "outputs": [],
   "source": [
    "%autoreload 2\n",
    "import hippo3 as hippo\n",
    "from pathlib import Path\n",
    "from tqdm import tqdm\n",
    "import pandas as pd\n",
    "import numpy as np"
   ]
  },
  {
   "cell_type": "markdown",
   "id": "186d79ff-4faa-41ea-8b41-6b58979b6749",
   "metadata": {},
   "source": [
    "## Path definitions"
   ]
  },
  {
   "cell_type": "code",
   "execution_count": null,
   "id": "6f9e19f2-ff7f-4427-8151-9acb6871b2c0",
   "metadata": {
    "tags": []
   },
   "outputs": [],
   "source": [
    "!rm -v pan_entero.sqlite"
   ]
  },
  {
   "cell_type": "code",
   "execution_count": null,
   "id": "5dde89fb-8883-4cf5-ae0d-362c3cdbac3c",
   "metadata": {
    "tags": []
   },
   "outputs": [],
   "source": [
    "path_aligned = Path('../aligned_files')"
   ]
  },
  {
   "cell_type": "markdown",
   "id": "1ab05a2e-2fe2-457a-b8e4-394db4c2c79f",
   "metadata": {},
   "source": [
    "## Create the animal"
   ]
  },
  {
   "cell_type": "code",
   "execution_count": null,
   "id": "78285ebc-4172-48f7-a14e-28893b1f4583",
   "metadata": {
    "tags": []
   },
   "outputs": [],
   "source": [
    "animal = hippo.HIPPO('PanEntero_HIPPO','pan_entero.sqlite')"
   ]
  },
  {
   "cell_type": "markdown",
   "id": "230741f3-5ac0-4ac2-9986-2395b5200e55",
   "metadata": {},
   "source": [
    "## Ingest the hits"
   ]
  },
  {
   "cell_type": "code",
   "execution_count": null,
   "id": "c46b7781-1f5e-4de6-8f52-5d0653a62db7",
   "metadata": {
    "tags": []
   },
   "outputs": [],
   "source": [
    "%%time\n",
    "meta_df = animal.add_hits('A71EV2A', '../metadata.csv', path_aligned, skip=['A71x1148a', 'A71x1148b', 'A71x1140a', 'A71x0515a'])"
   ]
  },
  {
   "cell_type": "code",
   "execution_count": null,
   "id": "b5e350a0-a550-4731-826a-2bad282209cb",
   "metadata": {
    "tags": []
   },
   "outputs": [],
   "source": [
    "animal.tags.unique"
   ]
  },
  {
   "cell_type": "code",
   "execution_count": null,
   "id": "22874a6c-a2b3-41c2-bf61-dc1adcc5883a",
   "metadata": {
    "tags": []
   },
   "outputs": [],
   "source": [
    "animal.plot_tag_statistics()"
   ]
  },
  {
   "cell_type": "code",
   "execution_count": null,
   "id": "d72d000e-eda5-4f65-bc33-2dfda02b0872",
   "metadata": {
    "tags": []
   },
   "outputs": [],
   "source": [
    "animal.plot_compound_property('base')"
   ]
  },
  {
   "cell_type": "code",
   "execution_count": null,
   "id": "8eaaf815-c2b6-457f-9400-4e421b2d3459",
   "metadata": {
    "tags": []
   },
   "outputs": [],
   "source": [
    "animal.plot_pose_property('target')"
   ]
  },
  {
   "cell_type": "markdown",
   "id": "1a3c389a-d2c6-46c3-8e96-47b4d7b08673",
   "metadata": {},
   "source": [
    "# test fingerprint"
   ]
  },
  {
   "cell_type": "code",
   "execution_count": null,
   "id": "0bad83cc-cfa5-4ae4-9b31-98844eea3a51",
   "metadata": {
    "tags": []
   },
   "outputs": [],
   "source": [
    "%%time\n",
    "for pose in tqdm(animal.poses):\n",
    "    pose.calculate_fingerprint()"
   ]
  },
  {
   "cell_type": "code",
   "execution_count": null,
   "id": "ac699565-4eb4-430c-9b8c-d5ac3e1e298d",
   "metadata": {
    "tags": []
   },
   "outputs": [],
   "source": [
    "animal.plot_interaction_punchcard(poses=animal.poses, subtitle='hits')"
   ]
  },
  {
   "cell_type": "markdown",
   "id": "01dbf2d1-d784-47bd-be62-d09542e6da96",
   "metadata": {},
   "source": [
    "# Base compounds"
   ]
  },
  {
   "cell_type": "code",
   "execution_count": null,
   "id": "8a99d17f-f874-4bb6-b72f-81391e5eae4a",
   "metadata": {
    "tags": []
   },
   "outputs": [],
   "source": [
    "base_df = pd.read_excel('../base_chem.xlsx')"
   ]
  },
  {
   "cell_type": "code",
   "execution_count": null,
   "id": "eb4a0c6e-517d-404a-a296-ff8f4064cf95",
   "metadata": {
    "tags": []
   },
   "outputs": [],
   "source": [
    "base_df = pd.read_csv('../wt_designs_MASTER_COMPLETE_FINAL_29Feb.csv')"
   ]
  },
  {
   "cell_type": "code",
   "execution_count": null,
   "id": "37ea4e4c-195e-47e9-9140-2699500dc1e7",
   "metadata": {
    "tags": []
   },
   "outputs": [],
   "source": [
    "base_df.head()"
   ]
  },
  {
   "cell_type": "code",
   "execution_count": null,
   "id": "114b4f7e-f711-4e48-b8f8-3a9f126ee6e0",
   "metadata": {
    "tags": []
   },
   "outputs": [],
   "source": [
    "from hippo3.tools import inchikey_from_smiles\n",
    "\n",
    "for i,row in base_df.iterrows():\n",
    "    \n",
    "    print(row)\n",
    "    \n",
    "    for j in range(row['no-steps']):\n",
    "        \n",
    "        j += 1\n",
    "        \n",
    "        s1 = row[f'reactant-1-{j}']\n",
    "        s2 = row[f'reactant-2-{j}']\n",
    "        s3 = row[f'reaction-product-smiles-{j}']\n",
    "\n",
    "        print(s1,s2,s3)\n",
    "        \n",
    "        # add the reactants\n",
    "        c1 = animal.db.insert_compound(smiles=s1)\n",
    "        \n",
    "        if isinstance(s2,float) and np.isnan(s2):\n",
    "            c2 = None\n",
    "            s2 = None\n",
    "        else:\n",
    "            c2 = animal.db.insert_compound(smiles=s2)\n",
    "            \n",
    "        c3 = animal.db.insert_compound(smiles=s3)\n",
    "                        \n",
    "        if c1 is None:\n",
    "            c1 = animal.compounds[inchikey_from_smiles(s1)]\n",
    "                \n",
    "        if c2 is None:\n",
    "            if s2 is not None:\n",
    "                c2 = animal.compounds[inchikey_from_smiles(s2)]\n",
    "        \n",
    "        if c3 is None:\n",
    "            c3 = animal.compounds[inchikey_from_smiles(s3)]\n",
    "        \n",
    "        r1 = animal.db.insert_reaction(type=row[f'reaction-name-{j}'], product=c3)\n",
    "        \n",
    "        animal.db.insert_reactant(compound=c1, reaction=r1, amount=1)\n",
    "\n",
    "        if c2:\n",
    "            animal.db.insert_reactant(compound=c2, reaction=r1, amount=1)\n",
    "\n",
    "        # animal.db.insert_reaction(type=row[f'reaction-name-{j}'])\n",
    "        \n",
    "    animal.db.insert_compound(smiles=s3)\n",
    "    \n",
    "    print(animal.compounds[inchikey_from_smiles(s3)])\n",
    "\n",
    "    break"
   ]
  },
  {
   "cell_type": "code",
   "execution_count": null,
   "id": "0c42408d-4fb9-4d57-8d02-b28ef4f79e7d",
   "metadata": {
    "tags": []
   },
   "outputs": [],
   "source": [
    "recipe = animal.compounds[78].reactions[-1].get_recipe(amount=1)"
   ]
  },
  {
   "cell_type": "code",
   "execution_count": null,
   "id": "9b772c9f-2f3c-4c61-90e0-43ec285428a7",
   "metadata": {
    "tags": []
   },
   "outputs": [],
   "source": [
    "import logging\n",
    "logger = logging.getLogger()\n",
    "logger.setLevel(level=logging.INFO)\n",
    "\n",
    "recipe.draw()"
   ]
  },
  {
   "cell_type": "code",
   "execution_count": null,
   "id": "4b3fded7-8aea-42b9-b918-b86537526d55",
   "metadata": {},
   "outputs": [],
   "source": [
    "raise Exception"
   ]
  },
  {
   "cell_type": "code",
   "execution_count": null,
   "id": "01dfa790-ca6f-4cc7-aa47-dcceaaf94c5a",
   "metadata": {
    "tags": []
   },
   "outputs": [],
   "source": [
    "meta_df[meta_df['Code'] == 'A71x0152a'].columns"
   ]
  },
  {
   "cell_type": "code",
   "execution_count": null,
   "id": "354cb423-ca89-4702-be1f-d10ea6c04373",
   "metadata": {
    "tags": []
   },
   "outputs": [],
   "source": [
    "meta_df[meta_df['Code'] == 'A71x0152a']['[Series] Taggy McTagface'].values[0]"
   ]
  },
  {
   "cell_type": "code",
   "execution_count": null,
   "id": "c7210c1a-a5f9-4600-a485-99f976a86f7f",
   "metadata": {
    "tags": []
   },
   "outputs": [],
   "source": [
    "animal.compounds"
   ]
  },
  {
   "cell_type": "code",
   "execution_count": null,
   "id": "e71ebf37-2eef-4b5d-b356-cb364b1fa6d9",
   "metadata": {
    "tags": []
   },
   "outputs": [],
   "source": [
    "animal.poses"
   ]
  },
  {
   "cell_type": "code",
   "execution_count": null,
   "id": "f18bb9a7-ed0f-4cfa-845d-8229451601fd",
   "metadata": {
    "tags": []
   },
   "outputs": [],
   "source": [
    "animal.poses[1].metadata\n",
    "animal.poses[1].tags"
   ]
  },
  {
   "cell_type": "code",
   "execution_count": null,
   "id": "fc395f3e-5c83-41a9-b33f-151de4354a57",
   "metadata": {
    "tags": []
   },
   "outputs": [],
   "source": [
    "animal.compounds[55].mol"
   ]
  },
  {
   "cell_type": "code",
   "execution_count": null,
   "id": "6be5dead-e2a5-4ccb-8eb6-5bb85247c5f3",
   "metadata": {
    "tags": []
   },
   "outputs": [],
   "source": [
    "raise Exception"
   ]
  },
  {
   "cell_type": "raw",
   "id": "f2bac214-1fcd-4279-ac5b-6e17121fc1d2",
   "metadata": {
    "tags": []
   },
   "source": [
    "animal.db.execute('DELETE FROM compound')\n",
    "animal.db.execute('DELETE FROM compound_pattern_bfp')\n",
    "# animal.db.execute('DELETE FROM compound_morgan_bfp')\n",
    "animal.db.execute('DELETE FROM pose')"
   ]
  },
  {
   "cell_type": "code",
   "execution_count": null,
   "id": "0344730d-59f2-407b-845b-207af568428f",
   "metadata": {
    "tags": []
   },
   "outputs": [],
   "source": [
    "animal.db.query_similarity('Fc1ccc(CC2CCCNC2)cc1', 0.7, return_similarity=True)"
   ]
  },
  {
   "cell_type": "code",
   "execution_count": null,
   "id": "f4c0c3a4-44cc-40eb-bdce-99da7f6fda06",
   "metadata": {
    "tags": []
   },
   "outputs": [],
   "source": [
    "animal.compounds[38].smiles"
   ]
  },
  {
   "cell_type": "code",
   "execution_count": null,
   "id": "f5e9d1b8-f07f-435a-a292-089fbfbbd506",
   "metadata": {
    "tags": []
   },
   "outputs": [],
   "source": [
    "import molparse as mp"
   ]
  },
  {
   "cell_type": "code",
   "execution_count": null,
   "id": "ba06e965-6fa8-475c-a142-6d3852f1a38a",
   "metadata": {
    "tags": []
   },
   "outputs": [],
   "source": [
    "mp.rdkit.mol_from_smiles('Fc1ccc(CC2CCCNC2)cc1')"
   ]
  },
  {
   "cell_type": "code",
   "execution_count": null,
   "id": "73dcc04a-f5b7-4752-bbc8-386de62432aa",
   "metadata": {
    "tags": []
   },
   "outputs": [],
   "source": [
    "len(animal.db.select('compound_id',table='compound_pattern_bfp', multiple=True))"
   ]
  },
  {
   "cell_type": "code",
   "execution_count": null,
   "id": "0495c031-f625-4401-8496-065afd00fb29",
   "metadata": {
    "tags": []
   },
   "outputs": [],
   "source": [
    "len(animal.compounds)"
   ]
  },
  {
   "cell_type": "code",
   "execution_count": null,
   "id": "be59a31c-236f-4c1c-9ab8-6f862838b612",
   "metadata": {
    "tags": []
   },
   "outputs": [],
   "source": [
    "animal.db.print_table('pose')"
   ]
  },
  {
   "cell_type": "code",
   "execution_count": null,
   "id": "bc5017c7-14e6-4806-82d6-8c18356395ba",
   "metadata": {},
   "outputs": [],
   "source": []
  }
 ],
 "metadata": {
  "kernelspec": {
   "display_name": "Python 3 (ipykernel)",
   "language": "python",
   "name": "python3"
  },
  "language_info": {
   "codemirror_mode": {
    "name": "ipython",
    "version": 3
   },
   "file_extension": ".py",
   "mimetype": "text/x-python",
   "name": "python",
   "nbconvert_exporter": "python",
   "pygments_lexer": "ipython3",
   "version": "3.10.12"
  }
 },
 "nbformat": 4,
 "nbformat_minor": 5
}
